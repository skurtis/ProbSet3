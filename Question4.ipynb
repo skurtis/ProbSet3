{
 "cells": [
  {
   "cell_type": "markdown",
   "metadata": {},
   "source": [
    "# Problem Set 3 Question 4\n",
    "\n",
    "The below code is for plotting a graph of water level over time using matplotlib.pyplot. \n",
    "\n",
    "First, the required modules (matplotlib.pyplot and numpy) are imported. I call the CSV file as a variable called \"datafile\". I create empty lists to store the timecounts (\"times\"), the dates the level was recorded (\"dates\"), and the water levels themselves (\"levels\"). I start the variable \"count\" at zero so that its value will be added to the timecounts each time the for loop cycles. \n",
    "\n",
    "For each line in the data file, I use if statements to pass over the lines containing the header or containing missing data. The water levels list is updated each time with the most current measurement and the dates list with the date of the most current measurement. The timecounts list is updated with the current measurement number, which is afterward increased by one. "
   ]
  },
  {
   "cell_type": "code",
   "execution_count": 62,
   "metadata": {},
   "outputs": [],
   "source": [
    "%matplotlib inline\n",
    "import matplotlib.pyplot as plt\n",
    "import numpy as np\n",
    "\n",
    "datafile = open(\"CO-OPS__8729108__wl.csv\") \n",
    "\n",
    "times = []\n",
    "levels = []\n",
    "dates = []\n",
    "count = 0\n",
    "\n",
    "for i in datafile:\n",
    "    if i.startswith('Date'): continue \n",
    "    if i[17:22].startswith(','): continue\n",
    "    levels = levels + [float(i[17:22])] \n",
    "    dates = dates + [i[:10]] \n",
    "    times = times + [count]\n",
    "    count = count + 1"
   ]
  },
  {
   "cell_type": "markdown",
   "metadata": {},
   "source": [
    "I use the below code to indicate on the figure the date for which each measurement occurs. I first create a list of the unique dates using numpy. To find out on which lines a new date is recorded, I divide the total number of measurements by the number of days recorded. I enter the lines on which a new date is recorded into the \"days4\" list. "
   ]
  },
  {
   "cell_type": "code",
   "execution_count": 63,
   "metadata": {},
   "outputs": [],
   "source": [
    "uniq_dates = np.unique([dates])\n",
    "day = len(dates)/len(uniq_dates)\n",
    "days4 = [day*0+1,day*1+1,day*2+1,day*3+1]"
   ]
  },
  {
   "cell_type": "markdown",
   "metadata": {},
   "source": [
    "I plot a line graph of the timecount on the x axis and the water level on the y axis. I generate tick marks on the x-axis for each date measurements were recorded."
   ]
  },
  {
   "cell_type": "code",
   "execution_count": 64,
   "metadata": {},
   "outputs": [
    {
     "data": {
      "image/png": "[encoded data removed]",
      "text/plain": [
       "<matplotlib.figure.Figure at 0x22574932a20>"
      ]
     },
     "metadata": {},
     "output_type": "display_data"
    }
   ],
   "source": [
    "fig = plt.figure()\n",
    "plt.plot(times, levels, '-')\n",
    "plt.xlabel('Time')\n",
    "plt.ylabel('Water level')\n",
    "plt.xticks(days4, uniq_dates);"
   ]
  },
  {
   "cell_type": "code",
   "execution_count": null,
   "metadata": {
    "collapsed": true
   },
   "outputs": [],
   "source": []
  }
 ],
 "metadata": {
  "kernelspec": {
   "display_name": "Python 3",
   "language": "python",
   "name": "python3"
  },
  "language_info": {
   "codemirror_mode": {
    "name": "ipython",
    "version": 3
   },
   "file_extension": ".py",
   "mimetype": "text/x-python",
   "name": "python",
   "nbconvert_exporter": "python",
   "pygments_lexer": "ipython3",
   "version": "3.6.3"
  }
 },
 "nbformat": 4,
 "nbformat_minor": 2
}
